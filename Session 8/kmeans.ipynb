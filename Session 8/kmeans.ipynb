{
 "cells": [
  {
   "cell_type": "code",
   "execution_count": 47,
   "metadata": {},
   "outputs": [],
   "source": [
    "#import necessary libraries\n",
    "from sklearn.cluster import KMeans\n",
    "import matplotlib.pyplot as plt\n",
    "import pandas as pd\n",
    "from sklearn.preprocessing import StandardScaler"
   ]
  },
  {
   "cell_type": "code",
   "execution_count": 48,
   "metadata": {},
   "outputs": [
    {
     "data": {
      "text/html": [
       "<div>\n",
       "<style scoped>\n",
       "    .dataframe tbody tr th:only-of-type {\n",
       "        vertical-align: middle;\n",
       "    }\n",
       "\n",
       "    .dataframe tbody tr th {\n",
       "        vertical-align: top;\n",
       "    }\n",
       "\n",
       "    .dataframe thead th {\n",
       "        text-align: right;\n",
       "    }\n",
       "</style>\n",
       "<table border=\"1\" class=\"dataframe\">\n",
       "  <thead>\n",
       "    <tr style=\"text-align: right;\">\n",
       "      <th></th>\n",
       "      <th>Rating</th>\n",
       "      <th>Raters</th>\n",
       "    </tr>\n",
       "  </thead>\n",
       "  <tbody>\n",
       "    <tr>\n",
       "      <th>0</th>\n",
       "      <td>4.26</td>\n",
       "      <td>1331732</td>\n",
       "    </tr>\n",
       "    <tr>\n",
       "      <th>1</th>\n",
       "      <td>4.25</td>\n",
       "      <td>979436</td>\n",
       "    </tr>\n",
       "    <tr>\n",
       "      <th>2</th>\n",
       "      <td>4.01</td>\n",
       "      <td>1119957</td>\n",
       "    </tr>\n",
       "    <tr>\n",
       "      <th>3</th>\n",
       "      <td>3.98</td>\n",
       "      <td>630669</td>\n",
       "    </tr>\n",
       "    <tr>\n",
       "      <th>4</th>\n",
       "      <td>4.04</td>\n",
       "      <td>516341</td>\n",
       "    </tr>\n",
       "    <tr>\n",
       "      <th>...</th>\n",
       "      <td>...</td>\n",
       "      <td>...</td>\n",
       "    </tr>\n",
       "    <tr>\n",
       "      <th>1243</th>\n",
       "      <td>3.40</td>\n",
       "      <td>59940</td>\n",
       "    </tr>\n",
       "    <tr>\n",
       "      <th>1244</th>\n",
       "      <td>3.47</td>\n",
       "      <td>2136</td>\n",
       "    </tr>\n",
       "    <tr>\n",
       "      <th>1245</th>\n",
       "      <td>3.64</td>\n",
       "      <td>7614</td>\n",
       "    </tr>\n",
       "    <tr>\n",
       "      <th>1246</th>\n",
       "      <td>3.45</td>\n",
       "      <td>3671</td>\n",
       "    </tr>\n",
       "    <tr>\n",
       "      <th>1247</th>\n",
       "      <td>4.10</td>\n",
       "      <td>67023</td>\n",
       "    </tr>\n",
       "  </tbody>\n",
       "</table>\n",
       "<p>1248 rows × 2 columns</p>\n",
       "</div>"
      ],
      "text/plain": [
       "      Rating   Raters\n",
       "0       4.26  1331732\n",
       "1       4.25   979436\n",
       "2       4.01  1119957\n",
       "3       3.98   630669\n",
       "4       4.04   516341\n",
       "...      ...      ...\n",
       "1243    3.40    59940\n",
       "1244    3.47     2136\n",
       "1245    3.64     7614\n",
       "1246    3.45     3671\n",
       "1247    4.10    67023\n",
       "\n",
       "[1248 rows x 2 columns]"
      ]
     },
     "execution_count": 48,
     "metadata": {},
     "output_type": "execute_result"
    }
   ],
   "source": [
    "#load data\n",
    "df = pd.read_csv(\"HorrorSVMCookies.csv\")\n",
    "df = df[['Rating', 'Raters']]\n",
    "df"
   ]
  },
  {
   "cell_type": "code",
   "execution_count": 49,
   "metadata": {},
   "outputs": [
    {
     "data": {
      "text/plain": [
       "array([[ 1.40701055,  4.44866496],\n",
       "       [ 1.37045417,  3.20049934],\n",
       "       [ 0.49310105,  3.69835762],\n",
       "       ...,\n",
       "       [-0.85948503, -0.24261327],\n",
       "       [-1.55405625, -0.25658311],\n",
       "       [ 0.82210847, -0.03213041]])"
      ]
     },
     "execution_count": 49,
     "metadata": {},
     "output_type": "execute_result"
    }
   ],
   "source": [
    "#feature scaling to standardize the data (this is the reason later on there are some negative values to Rating and Raters)\n",
    "sc_df = StandardScaler()\n",
    "df_std= sc_df.fit_transform(df.astype(float))\n",
    "df_std"
   ]
  },
  {
   "cell_type": "code",
   "execution_count": 50,
   "metadata": {},
   "outputs": [
    {
     "data": {
      "text/html": [
       "<div>\n",
       "<style scoped>\n",
       "    .dataframe tbody tr th:only-of-type {\n",
       "        vertical-align: middle;\n",
       "    }\n",
       "\n",
       "    .dataframe tbody tr th {\n",
       "        vertical-align: top;\n",
       "    }\n",
       "\n",
       "    .dataframe thead th {\n",
       "        text-align: right;\n",
       "    }\n",
       "</style>\n",
       "<table border=\"1\" class=\"dataframe\">\n",
       "  <thead>\n",
       "    <tr style=\"text-align: right;\">\n",
       "      <th></th>\n",
       "      <th>Rating</th>\n",
       "      <th>Raters</th>\n",
       "      <th>label_kmeans</th>\n",
       "    </tr>\n",
       "  </thead>\n",
       "  <tbody>\n",
       "    <tr>\n",
       "      <th>0</th>\n",
       "      <td>1.407011</td>\n",
       "      <td>4.448665</td>\n",
       "      <td>1</td>\n",
       "    </tr>\n",
       "    <tr>\n",
       "      <th>1</th>\n",
       "      <td>1.370454</td>\n",
       "      <td>3.200499</td>\n",
       "      <td>2</td>\n",
       "    </tr>\n",
       "    <tr>\n",
       "      <th>2</th>\n",
       "      <td>0.493101</td>\n",
       "      <td>3.698358</td>\n",
       "      <td>1</td>\n",
       "    </tr>\n",
       "    <tr>\n",
       "      <th>3</th>\n",
       "      <td>0.383432</td>\n",
       "      <td>1.964837</td>\n",
       "      <td>2</td>\n",
       "    </tr>\n",
       "    <tr>\n",
       "      <th>4</th>\n",
       "      <td>0.602770</td>\n",
       "      <td>1.559779</td>\n",
       "      <td>2</td>\n",
       "    </tr>\n",
       "    <tr>\n",
       "      <th>...</th>\n",
       "      <td>...</td>\n",
       "      <td>...</td>\n",
       "      <td>...</td>\n",
       "    </tr>\n",
       "    <tr>\n",
       "      <th>1243</th>\n",
       "      <td>-1.736838</td>\n",
       "      <td>-0.057225</td>\n",
       "      <td>0</td>\n",
       "    </tr>\n",
       "    <tr>\n",
       "      <th>1244</th>\n",
       "      <td>-1.480943</td>\n",
       "      <td>-0.262022</td>\n",
       "      <td>0</td>\n",
       "    </tr>\n",
       "    <tr>\n",
       "      <th>1245</th>\n",
       "      <td>-0.859485</td>\n",
       "      <td>-0.242613</td>\n",
       "      <td>0</td>\n",
       "    </tr>\n",
       "    <tr>\n",
       "      <th>1246</th>\n",
       "      <td>-1.554056</td>\n",
       "      <td>-0.256583</td>\n",
       "      <td>0</td>\n",
       "    </tr>\n",
       "    <tr>\n",
       "      <th>1247</th>\n",
       "      <td>0.822108</td>\n",
       "      <td>-0.032130</td>\n",
       "      <td>2</td>\n",
       "    </tr>\n",
       "  </tbody>\n",
       "</table>\n",
       "<p>1248 rows × 3 columns</p>\n",
       "</div>"
      ],
      "text/plain": [
       "        Rating    Raters  label_kmeans\n",
       "0     1.407011  4.448665             1\n",
       "1     1.370454  3.200499             2\n",
       "2     0.493101  3.698358             1\n",
       "3     0.383432  1.964837             2\n",
       "4     0.602770  1.559779             2\n",
       "...        ...       ...           ...\n",
       "1243 -1.736838 -0.057225             0\n",
       "1244 -1.480943 -0.262022             0\n",
       "1245 -0.859485 -0.242613             0\n",
       "1246 -1.554056 -0.256583             0\n",
       "1247  0.822108 -0.032130             2\n",
       "\n",
       "[1248 rows x 3 columns]"
      ]
     },
     "execution_count": 50,
     "metadata": {},
     "output_type": "execute_result"
    }
   ],
   "source": [
    "#k-means clustering\n",
    "kmeans = KMeans(n_clusters=3, init='random',\n",
    "    n_init=10, max_iter=300, \n",
    "    tol=1e-04, random_state=0).fit(df_std)\n",
    "labels = kmeans.labels_\n",
    "\n",
    "y_km = kmeans.fit_predict(df_std)\n",
    "new_df = pd.DataFrame(data = df_std, columns = ['Rating', 'Raters'])\n",
    "new_df['label_kmeans'] = labels\n",
    "new_df"
   ]
  },
  {
   "cell_type": "code",
   "execution_count": 51,
   "metadata": {},
   "outputs": [
    {
     "data": {
      "image/png": "[encoded data removed]",
      "text/plain": [
       "<Figure size 720x720 with 1 Axes>"
      ]
     },
     "metadata": {
      "needs_background": "light"
     },
     "output_type": "display_data"
    }
   ],
   "source": [
    "fig, ax = plt.subplots(figsize=(10, 10))\n",
    "#plotting the 3 clusters\n",
    "plt.scatter(new_df[\"Rating\"][new_df[\"label_kmeans\"] == 0], new_df[\"Raters\"][new_df[\"label_kmeans\"] == 0], color = \"blue\", s=30, edgecolor='black',marker='s',label='cluster 1')\n",
    "plt.scatter(new_df[\"Rating\"][new_df[\"label_kmeans\"] == 1], new_df[\"Raters\"][new_df[\"label_kmeans\"] == 1], color = \"red\", s=30, edgecolor='black',marker='o',label='cluster 2')\n",
    "plt.scatter(new_df[\"Rating\"][new_df[\"label_kmeans\"] == 2], new_df[\"Raters\"][new_df[\"label_kmeans\"] == 2], color = \"green\", s=30, edgecolor='black',marker='v',label='cluster 3' )\n",
    "\n",
    "#plotting the centroids\n",
    "centers = kmeans.cluster_centers_\n",
    "plt.scatter(centers[:, 0], centers[:, 1], c='yellow', edgecolor='black', s=50,label='centroids')\n",
    "ax.set_xlabel('Rating')\n",
    "ax.set_ylabel('Raters')\n",
    "\n",
    "plt.legend(scatterpoints=1)\n",
    "plt.grid()\n",
    "plt.show()"
   ]
  },
  {
   "cell_type": "code",
   "execution_count": 52,
   "metadata": {},
   "outputs": [
    {
     "data": {
      "text/plain": [
       "3"
      ]
     },
     "execution_count": 52,
     "metadata": {},
     "output_type": "execute_result"
    }
   ],
   "source": [
    "#finding the elbow using kneed locator\n",
    "from kneed import KneeLocator\n",
    "kl = KneeLocator(range(1, 11), distortions, curve=\"convex\", direction=\"decreasing\")\n",
    "kl.elbow"
   ]
  },
  {
   "cell_type": "code",
   "execution_count": 53,
   "metadata": {},
   "outputs": [
    {
     "data": {
      "image/png": "[encoded data removed]",
      "text/plain": [
       "<Figure size 432x288 with 1 Axes>"
      ]
     },
     "metadata": {
      "needs_background": "light"
     },
     "output_type": "display_data"
    }
   ],
   "source": [
    "# plot\n",
    "plt.plot(range(1, 11), distortions, marker='o')\n",
    "plt.xlabel('Number of clusters')\n",
    "plt.ylabel('Distortion')\n",
    "plt.show()"
   ]
  }
 ],
 "metadata": {
  "kernelspec": {
   "display_name": "Python 3.9.12 ('base')",
   "language": "python",
   "name": "python3"
  },
  "language_info": {
   "codemirror_mode": {
    "name": "ipython",
    "version": 3
   },
   "file_extension": ".py",
   "mimetype": "text/x-python",
   "name": "python",
   "nbconvert_exporter": "python",
   "pygments_lexer": "ipython3",
   "version": "3.9.12"
  },
  "orig_nbformat": 4,
  "vscode": {
   "interpreter": {
    "hash": "6b653cce55b49036c6addb2704e0494e1a69bc998590e4b3eca4f60dd3d1794b"
   }
  }
 },
 "nbformat": 4,
 "nbformat_minor": 2
}
